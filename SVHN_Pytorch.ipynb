{
  "nbformat": 4,
  "nbformat_minor": 0,
  "metadata": {
    "colab": {
      "name": "SVHN Pytorch.ipynb",
      "provenance": [],
      "collapsed_sections": []
    },
    "kernelspec": {
      "name": "python3",
      "display_name": "Python 3"
    },
    "accelerator": "GPU",
    "widgets": {
      "application/vnd.jupyter.widget-state+json": {
        "438b99cb75b843128beae776951cdb40": {
          "model_module": "@jupyter-widgets/controls",
          "model_name": "HBoxModel",
          "state": {
            "_view_name": "HBoxView",
            "_dom_classes": [],
            "_model_name": "HBoxModel",
            "_view_module": "@jupyter-widgets/controls",
            "_model_module_version": "1.5.0",
            "_view_count": null,
            "_view_module_version": "1.5.0",
            "box_style": "",
            "layout": "IPY_MODEL_20077c7678f0428fad57c393a546de2d",
            "_model_module": "@jupyter-widgets/controls",
            "children": [
              "IPY_MODEL_b2ac363dc7a34bea99da094bc2370d2f",
              "IPY_MODEL_7ffa5c98485e44ae94080cb5567ad4a6"
            ]
          }
        },
        "20077c7678f0428fad57c393a546de2d": {
          "model_module": "@jupyter-widgets/base",
          "model_name": "LayoutModel",
          "state": {
            "_view_name": "LayoutView",
            "grid_template_rows": null,
            "right": null,
            "justify_content": null,
            "_view_module": "@jupyter-widgets/base",
            "overflow": null,
            "_model_module_version": "1.2.0",
            "_view_count": null,
            "flex_flow": null,
            "width": null,
            "min_width": null,
            "border": null,
            "align_items": null,
            "bottom": null,
            "_model_module": "@jupyter-widgets/base",
            "top": null,
            "grid_column": null,
            "overflow_y": null,
            "overflow_x": null,
            "grid_auto_flow": null,
            "grid_area": null,
            "grid_template_columns": null,
            "flex": null,
            "_model_name": "LayoutModel",
            "justify_items": null,
            "grid_row": null,
            "max_height": null,
            "align_content": null,
            "visibility": null,
            "align_self": null,
            "height": null,
            "min_height": null,
            "padding": null,
            "grid_auto_rows": null,
            "grid_gap": null,
            "max_width": null,
            "order": null,
            "_view_module_version": "1.2.0",
            "grid_template_areas": null,
            "object_position": null,
            "object_fit": null,
            "grid_auto_columns": null,
            "margin": null,
            "display": null,
            "left": null
          }
        },
        "b2ac363dc7a34bea99da094bc2370d2f": {
          "model_module": "@jupyter-widgets/controls",
          "model_name": "FloatProgressModel",
          "state": {
            "_view_name": "ProgressView",
            "style": "IPY_MODEL_bb74e60af00341ab98c77bb6fc119e97",
            "_dom_classes": [],
            "description": "",
            "_model_name": "FloatProgressModel",
            "bar_style": "info",
            "max": 1,
            "_view_module": "@jupyter-widgets/controls",
            "_model_module_version": "1.5.0",
            "value": 1,
            "_view_count": null,
            "_view_module_version": "1.5.0",
            "orientation": "horizontal",
            "min": 0,
            "description_tooltip": null,
            "_model_module": "@jupyter-widgets/controls",
            "layout": "IPY_MODEL_27f2fc659d5f4668b8f87bd896aee236"
          }
        },
        "7ffa5c98485e44ae94080cb5567ad4a6": {
          "model_module": "@jupyter-widgets/controls",
          "model_name": "HTMLModel",
          "state": {
            "_view_name": "HTMLView",
            "style": "IPY_MODEL_c4c2c4f97f2846a7816fbe5d18e1f388",
            "_dom_classes": [],
            "description": "",
            "_model_name": "HTMLModel",
            "placeholder": "​",
            "_view_module": "@jupyter-widgets/controls",
            "_model_module_version": "1.5.0",
            "value": " 182042624/? [00:40&lt;00:00, 18841629.93it/s]",
            "_view_count": null,
            "_view_module_version": "1.5.0",
            "description_tooltip": null,
            "_model_module": "@jupyter-widgets/controls",
            "layout": "IPY_MODEL_38eceda4da45459e8cf0b4856e470758"
          }
        },
        "bb74e60af00341ab98c77bb6fc119e97": {
          "model_module": "@jupyter-widgets/controls",
          "model_name": "ProgressStyleModel",
          "state": {
            "_view_name": "StyleView",
            "_model_name": "ProgressStyleModel",
            "description_width": "initial",
            "_view_module": "@jupyter-widgets/base",
            "_model_module_version": "1.5.0",
            "_view_count": null,
            "_view_module_version": "1.2.0",
            "bar_color": null,
            "_model_module": "@jupyter-widgets/controls"
          }
        },
        "27f2fc659d5f4668b8f87bd896aee236": {
          "model_module": "@jupyter-widgets/base",
          "model_name": "LayoutModel",
          "state": {
            "_view_name": "LayoutView",
            "grid_template_rows": null,
            "right": null,
            "justify_content": null,
            "_view_module": "@jupyter-widgets/base",
            "overflow": null,
            "_model_module_version": "1.2.0",
            "_view_count": null,
            "flex_flow": null,
            "width": null,
            "min_width": null,
            "border": null,
            "align_items": null,
            "bottom": null,
            "_model_module": "@jupyter-widgets/base",
            "top": null,
            "grid_column": null,
            "overflow_y": null,
            "overflow_x": null,
            "grid_auto_flow": null,
            "grid_area": null,
            "grid_template_columns": null,
            "flex": null,
            "_model_name": "LayoutModel",
            "justify_items": null,
            "grid_row": null,
            "max_height": null,
            "align_content": null,
            "visibility": null,
            "align_self": null,
            "height": null,
            "min_height": null,
            "padding": null,
            "grid_auto_rows": null,
            "grid_gap": null,
            "max_width": null,
            "order": null,
            "_view_module_version": "1.2.0",
            "grid_template_areas": null,
            "object_position": null,
            "object_fit": null,
            "grid_auto_columns": null,
            "margin": null,
            "display": null,
            "left": null
          }
        },
        "c4c2c4f97f2846a7816fbe5d18e1f388": {
          "model_module": "@jupyter-widgets/controls",
          "model_name": "DescriptionStyleModel",
          "state": {
            "_view_name": "StyleView",
            "_model_name": "DescriptionStyleModel",
            "description_width": "",
            "_view_module": "@jupyter-widgets/base",
            "_model_module_version": "1.5.0",
            "_view_count": null,
            "_view_module_version": "1.2.0",
            "_model_module": "@jupyter-widgets/controls"
          }
        },
        "38eceda4da45459e8cf0b4856e470758": {
          "model_module": "@jupyter-widgets/base",
          "model_name": "LayoutModel",
          "state": {
            "_view_name": "LayoutView",
            "grid_template_rows": null,
            "right": null,
            "justify_content": null,
            "_view_module": "@jupyter-widgets/base",
            "overflow": null,
            "_model_module_version": "1.2.0",
            "_view_count": null,
            "flex_flow": null,
            "width": null,
            "min_width": null,
            "border": null,
            "align_items": null,
            "bottom": null,
            "_model_module": "@jupyter-widgets/base",
            "top": null,
            "grid_column": null,
            "overflow_y": null,
            "overflow_x": null,
            "grid_auto_flow": null,
            "grid_area": null,
            "grid_template_columns": null,
            "flex": null,
            "_model_name": "LayoutModel",
            "justify_items": null,
            "grid_row": null,
            "max_height": null,
            "align_content": null,
            "visibility": null,
            "align_self": null,
            "height": null,
            "min_height": null,
            "padding": null,
            "grid_auto_rows": null,
            "grid_gap": null,
            "max_width": null,
            "order": null,
            "_view_module_version": "1.2.0",
            "grid_template_areas": null,
            "object_position": null,
            "object_fit": null,
            "grid_auto_columns": null,
            "margin": null,
            "display": null,
            "left": null
          }
        },
        "b35ba7c7cbb642f0a5e44dcf8369a7e8": {
          "model_module": "@jupyter-widgets/controls",
          "model_name": "HBoxModel",
          "state": {
            "_view_name": "HBoxView",
            "_dom_classes": [],
            "_model_name": "HBoxModel",
            "_view_module": "@jupyter-widgets/controls",
            "_model_module_version": "1.5.0",
            "_view_count": null,
            "_view_module_version": "1.5.0",
            "box_style": "",
            "layout": "IPY_MODEL_de5f5c50b315427c980669c817574d2d",
            "_model_module": "@jupyter-widgets/controls",
            "children": [
              "IPY_MODEL_72877858c1744ac586e93a9f8feda3fe",
              "IPY_MODEL_ac4f1cc8d6464bdb8bf7ea627d01907b"
            ]
          }
        },
        "de5f5c50b315427c980669c817574d2d": {
          "model_module": "@jupyter-widgets/base",
          "model_name": "LayoutModel",
          "state": {
            "_view_name": "LayoutView",
            "grid_template_rows": null,
            "right": null,
            "justify_content": null,
            "_view_module": "@jupyter-widgets/base",
            "overflow": null,
            "_model_module_version": "1.2.0",
            "_view_count": null,
            "flex_flow": null,
            "width": null,
            "min_width": null,
            "border": null,
            "align_items": null,
            "bottom": null,
            "_model_module": "@jupyter-widgets/base",
            "top": null,
            "grid_column": null,
            "overflow_y": null,
            "overflow_x": null,
            "grid_auto_flow": null,
            "grid_area": null,
            "grid_template_columns": null,
            "flex": null,
            "_model_name": "LayoutModel",
            "justify_items": null,
            "grid_row": null,
            "max_height": null,
            "align_content": null,
            "visibility": null,
            "align_self": null,
            "height": null,
            "min_height": null,
            "padding": null,
            "grid_auto_rows": null,
            "grid_gap": null,
            "max_width": null,
            "order": null,
            "_view_module_version": "1.2.0",
            "grid_template_areas": null,
            "object_position": null,
            "object_fit": null,
            "grid_auto_columns": null,
            "margin": null,
            "display": null,
            "left": null
          }
        },
        "72877858c1744ac586e93a9f8feda3fe": {
          "model_module": "@jupyter-widgets/controls",
          "model_name": "FloatProgressModel",
          "state": {
            "_view_name": "ProgressView",
            "style": "IPY_MODEL_59615fddb83c4520a057698f2a7c0d20",
            "_dom_classes": [],
            "description": "",
            "_model_name": "FloatProgressModel",
            "bar_style": "info",
            "max": 1,
            "_view_module": "@jupyter-widgets/controls",
            "_model_module_version": "1.5.0",
            "value": 1,
            "_view_count": null,
            "_view_module_version": "1.5.0",
            "orientation": "horizontal",
            "min": 0,
            "description_tooltip": null,
            "_model_module": "@jupyter-widgets/controls",
            "layout": "IPY_MODEL_8e958af03b4e4feba455f618b2715ec8"
          }
        },
        "ac4f1cc8d6464bdb8bf7ea627d01907b": {
          "model_module": "@jupyter-widgets/controls",
          "model_name": "HTMLModel",
          "state": {
            "_view_name": "HTMLView",
            "style": "IPY_MODEL_e7205c2fa2f141188fc3f01e6c180c93",
            "_dom_classes": [],
            "description": "",
            "_model_name": "HTMLModel",
            "placeholder": "​",
            "_view_module": "@jupyter-widgets/controls",
            "_model_module_version": "1.5.0",
            "value": " 64282624/? [00:21&lt;00:00, 19696546.17it/s]",
            "_view_count": null,
            "_view_module_version": "1.5.0",
            "description_tooltip": null,
            "_model_module": "@jupyter-widgets/controls",
            "layout": "IPY_MODEL_d4a0d7ee6a1e433db34c3db670c4216f"
          }
        },
        "59615fddb83c4520a057698f2a7c0d20": {
          "model_module": "@jupyter-widgets/controls",
          "model_name": "ProgressStyleModel",
          "state": {
            "_view_name": "StyleView",
            "_model_name": "ProgressStyleModel",
            "description_width": "initial",
            "_view_module": "@jupyter-widgets/base",
            "_model_module_version": "1.5.0",
            "_view_count": null,
            "_view_module_version": "1.2.0",
            "bar_color": null,
            "_model_module": "@jupyter-widgets/controls"
          }
        },
        "8e958af03b4e4feba455f618b2715ec8": {
          "model_module": "@jupyter-widgets/base",
          "model_name": "LayoutModel",
          "state": {
            "_view_name": "LayoutView",
            "grid_template_rows": null,
            "right": null,
            "justify_content": null,
            "_view_module": "@jupyter-widgets/base",
            "overflow": null,
            "_model_module_version": "1.2.0",
            "_view_count": null,
            "flex_flow": null,
            "width": null,
            "min_width": null,
            "border": null,
            "align_items": null,
            "bottom": null,
            "_model_module": "@jupyter-widgets/base",
            "top": null,
            "grid_column": null,
            "overflow_y": null,
            "overflow_x": null,
            "grid_auto_flow": null,
            "grid_area": null,
            "grid_template_columns": null,
            "flex": null,
            "_model_name": "LayoutModel",
            "justify_items": null,
            "grid_row": null,
            "max_height": null,
            "align_content": null,
            "visibility": null,
            "align_self": null,
            "height": null,
            "min_height": null,
            "padding": null,
            "grid_auto_rows": null,
            "grid_gap": null,
            "max_width": null,
            "order": null,
            "_view_module_version": "1.2.0",
            "grid_template_areas": null,
            "object_position": null,
            "object_fit": null,
            "grid_auto_columns": null,
            "margin": null,
            "display": null,
            "left": null
          }
        },
        "e7205c2fa2f141188fc3f01e6c180c93": {
          "model_module": "@jupyter-widgets/controls",
          "model_name": "DescriptionStyleModel",
          "state": {
            "_view_name": "StyleView",
            "_model_name": "DescriptionStyleModel",
            "description_width": "",
            "_view_module": "@jupyter-widgets/base",
            "_model_module_version": "1.5.0",
            "_view_count": null,
            "_view_module_version": "1.2.0",
            "_model_module": "@jupyter-widgets/controls"
          }
        },
        "d4a0d7ee6a1e433db34c3db670c4216f": {
          "model_module": "@jupyter-widgets/base",
          "model_name": "LayoutModel",
          "state": {
            "_view_name": "LayoutView",
            "grid_template_rows": null,
            "right": null,
            "justify_content": null,
            "_view_module": "@jupyter-widgets/base",
            "overflow": null,
            "_model_module_version": "1.2.0",
            "_view_count": null,
            "flex_flow": null,
            "width": null,
            "min_width": null,
            "border": null,
            "align_items": null,
            "bottom": null,
            "_model_module": "@jupyter-widgets/base",
            "top": null,
            "grid_column": null,
            "overflow_y": null,
            "overflow_x": null,
            "grid_auto_flow": null,
            "grid_area": null,
            "grid_template_columns": null,
            "flex": null,
            "_model_name": "LayoutModel",
            "justify_items": null,
            "grid_row": null,
            "max_height": null,
            "align_content": null,
            "visibility": null,
            "align_self": null,
            "height": null,
            "min_height": null,
            "padding": null,
            "grid_auto_rows": null,
            "grid_gap": null,
            "max_width": null,
            "order": null,
            "_view_module_version": "1.2.0",
            "grid_template_areas": null,
            "object_position": null,
            "object_fit": null,
            "grid_auto_columns": null,
            "margin": null,
            "display": null,
            "left": null
          }
        }
      }
    }
  },
  "cells": [
    {
      "cell_type": "code",
      "metadata": {
        "id": "mBYY7KGJfLfH",
        "colab_type": "code",
        "colab": {}
      },
      "source": [
        "import matplotlib.pyplot as plt\n",
        "import numpy as np\n",
        "import pandas as pd\n",
        "from PIL import Image\n",
        "import torch\n",
        "import torchvision \n",
        "import torch.nn as nn\n",
        "import torchvision.transforms as transforms\n",
        "from datetime import datetime\n",
        "from torchsummary import summary"
      ],
      "execution_count": 1,
      "outputs": []
    },
    {
      "cell_type": "code",
      "metadata": {
        "id": "vyBbKGnJewN1",
        "colab_type": "code",
        "colab": {
          "base_uri": "https://localhost:8080/",
          "height": 66,
          "referenced_widgets": [
            "438b99cb75b843128beae776951cdb40",
            "20077c7678f0428fad57c393a546de2d",
            "b2ac363dc7a34bea99da094bc2370d2f",
            "7ffa5c98485e44ae94080cb5567ad4a6",
            "bb74e60af00341ab98c77bb6fc119e97",
            "27f2fc659d5f4668b8f87bd896aee236",
            "c4c2c4f97f2846a7816fbe5d18e1f388",
            "38eceda4da45459e8cf0b4856e470758"
          ]
        },
        "outputId": "4764cca1-7636-415c-8274-376d704fa7bd"
      },
      "source": [
        "train_dataset = torchvision.datasets.SVHN('.',split='train', transform=transforms.ToTensor(), download=True)"
      ],
      "execution_count": 2,
      "outputs": [
        {
          "output_type": "stream",
          "text": [
            "Downloading http://ufldl.stanford.edu/housenumbers/train_32x32.mat to ./train_32x32.mat\n"
          ],
          "name": "stdout"
        },
        {
          "output_type": "display_data",
          "data": {
            "application/vnd.jupyter.widget-view+json": {
              "model_id": "438b99cb75b843128beae776951cdb40",
              "version_minor": 0,
              "version_major": 2
            },
            "text/plain": [
              "HBox(children=(FloatProgress(value=1.0, bar_style='info', max=1.0), HTML(value='')))"
            ]
          },
          "metadata": {
            "tags": []
          }
        }
      ]
    },
    {
      "cell_type": "code",
      "metadata": {
        "id": "kal2sZhNFsqY",
        "colab_type": "code",
        "colab": {
          "base_uri": "https://localhost:8080/",
          "height": 66,
          "referenced_widgets": [
            "b35ba7c7cbb642f0a5e44dcf8369a7e8",
            "de5f5c50b315427c980669c817574d2d",
            "72877858c1744ac586e93a9f8feda3fe",
            "ac4f1cc8d6464bdb8bf7ea627d01907b",
            "59615fddb83c4520a057698f2a7c0d20",
            "8e958af03b4e4feba455f618b2715ec8",
            "e7205c2fa2f141188fc3f01e6c180c93",
            "d4a0d7ee6a1e433db34c3db670c4216f"
          ]
        },
        "outputId": "ca4acc6d-8d63-4d79-97cf-0ff6a5b4186c"
      },
      "source": [
        "test_dataset = torchvision.datasets.SVHN('.',split='test', transform=transforms.ToTensor(), download=True)"
      ],
      "execution_count": 3,
      "outputs": [
        {
          "output_type": "stream",
          "text": [
            "Downloading http://ufldl.stanford.edu/housenumbers/test_32x32.mat to ./test_32x32.mat\n"
          ],
          "name": "stdout"
        },
        {
          "output_type": "display_data",
          "data": {
            "application/vnd.jupyter.widget-view+json": {
              "model_id": "b35ba7c7cbb642f0a5e44dcf8369a7e8",
              "version_minor": 0,
              "version_major": 2
            },
            "text/plain": [
              "HBox(children=(FloatProgress(value=1.0, bar_style='info', max=1.0), HTML(value='')))"
            ]
          },
          "metadata": {
            "tags": []
          }
        }
      ]
    },
    {
      "cell_type": "code",
      "metadata": {
        "id": "dH90YBfcI5g_",
        "colab_type": "code",
        "colab": {
          "base_uri": "https://localhost:8080/",
          "height": 34
        },
        "outputId": "5e3fd969-c592-4f06-a643-9f0b8d5956f4"
      },
      "source": [
        "train_dataset.data.max()\n"
      ],
      "execution_count": 4,
      "outputs": [
        {
          "output_type": "execute_result",
          "data": {
            "text/plain": [
              "255"
            ]
          },
          "metadata": {
            "tags": []
          },
          "execution_count": 4
        }
      ]
    },
    {
      "cell_type": "markdown",
      "metadata": {
        "id": "E7Vqm5imxu06",
        "colab_type": "text"
      },
      "source": [
        " <!-- 1. convolution, kernel_size=5, channels=6, stride=1, padding=2\n",
        " 2. batch-normalization\n",
        " 3. ReLU\n",
        " 4. Max-pool, kernel_size=2, stride=2\n",
        "\n",
        " 5. convolution, kernel_size=3, channels=12, stride=1, padding=1\n",
        " 6. batch-normalization\n",
        " 7. ReLU\n",
        " 8. Max-pool, kernel_size=2, stride=2\n",
        "\n",
        " 9. convolution, kernel_size=3, channels=24, stride=1, padding=1\n",
        " 10. batch-normalization\n",
        " 11. ReLU\n",
        " 12. Max-pool, kernel_size=2, stride=2\n",
        "\n",
        " 13. fully connected layer, output_size=10 -->"
      ]
    },
    {
      "cell_type": "code",
      "metadata": {
        "id": "Pn-53U2xfk0X",
        "colab_type": "code",
        "colab": {
          "base_uri": "https://localhost:8080/",
          "height": 34
        },
        "outputId": "fe046766-a1eb-4215-d01c-529c6de2d790"
      },
      "source": [
        "np.unique(train_dataset.labels)"
      ],
      "execution_count": 5,
      "outputs": [
        {
          "output_type": "execute_result",
          "data": {
            "text/plain": [
              "array([0, 1, 2, 3, 4, 5, 6, 7, 8, 9])"
            ]
          },
          "metadata": {
            "tags": []
          },
          "execution_count": 5
        }
      ]
    },
    {
      "cell_type": "code",
      "metadata": {
        "id": "8ek0XGNlPicw",
        "colab_type": "code",
        "colab": {}
      },
      "source": [
        "class CNN(nn.Module):\n",
        "  def __init__(self, K):\n",
        "    super(CNN, self).__init__()\n",
        "    self.conv_layer1 = nn.Sequential(\n",
        "        nn.Conv2d(in_channels=3, out_channels=6,kernel_size=5, stride=1, padding=2),\n",
        "        nn.BatchNorm2d(num_features=6),\n",
        "        nn.ReLU(),\n",
        "        nn.MaxPool2d(kernel_size=2, stride=2))\n",
        "    self.conv_layer2 = nn.Sequential(\n",
        "        nn.Conv2d(in_channels=6, out_channels=12,kernel_size=3, stride=1, padding=1),\n",
        "        nn.BatchNorm2d(num_features=12),\n",
        "        nn.ReLU(),\n",
        "        nn.MaxPool2d(kernel_size=2, stride=2))\n",
        "    self.conv_layer3 = nn.Sequential(\n",
        "        nn.Conv2d(in_channels=12, out_channels=24,kernel_size=3, stride=1, padding=1),\n",
        "        nn.BatchNorm2d(num_features=24),\n",
        "        nn.ReLU(),\n",
        "        nn.MaxPool2d(kernel_size=2, stride=2))\n",
        "    self.flatten = nn.Flatten()\n",
        "\n",
        "    self.dense = nn.Sequential(\n",
        "        nn.Dropout(p=0.2),\n",
        "        nn.Linear(in_features=384,out_features=512),\n",
        "        nn.LeakyReLU(),\n",
        "        nn.Dropout(p=0.2),\n",
        "        nn.Linear(in_features=512,out_features=10))\n",
        "\n",
        "  def forward(self, X):\n",
        "    output = self.conv_layer1(X)\n",
        "    output = self.conv_layer2(output)\n",
        "    output = self.conv_layer3(output)\n",
        "    output = self.flatten(output)\n",
        "    output = self.dense(output)\n",
        "    return output"
      ],
      "execution_count": 6,
      "outputs": []
    },
    {
      "cell_type": "code",
      "metadata": {
        "id": "oRrUAGA2PiYu",
        "colab_type": "code",
        "colab": {
          "base_uri": "https://localhost:8080/",
          "height": 544
        },
        "outputId": "bb02e5eb-9857-40f7-83b5-00e686d30d6a"
      },
      "source": [
        "device = torch.device(\"cuda\" if torch.cuda.is_available() else \"cpu\") # PyTorch v0.4.0\n",
        "model = CNN(K=10).to(device)\n",
        "\n",
        "summary(model, (3, 32, 32))\n"
      ],
      "execution_count": 7,
      "outputs": [
        {
          "output_type": "stream",
          "text": [
            "----------------------------------------------------------------\n",
            "        Layer (type)               Output Shape         Param #\n",
            "================================================================\n",
            "            Conv2d-1            [-1, 6, 32, 32]             456\n",
            "       BatchNorm2d-2            [-1, 6, 32, 32]              12\n",
            "              ReLU-3            [-1, 6, 32, 32]               0\n",
            "         MaxPool2d-4            [-1, 6, 16, 16]               0\n",
            "            Conv2d-5           [-1, 12, 16, 16]             660\n",
            "       BatchNorm2d-6           [-1, 12, 16, 16]              24\n",
            "              ReLU-7           [-1, 12, 16, 16]               0\n",
            "         MaxPool2d-8             [-1, 12, 8, 8]               0\n",
            "            Conv2d-9             [-1, 24, 8, 8]           2,616\n",
            "      BatchNorm2d-10             [-1, 24, 8, 8]              48\n",
            "             ReLU-11             [-1, 24, 8, 8]               0\n",
            "        MaxPool2d-12             [-1, 24, 4, 4]               0\n",
            "          Flatten-13                  [-1, 384]               0\n",
            "          Dropout-14                  [-1, 384]               0\n",
            "           Linear-15                  [-1, 512]         197,120\n",
            "        LeakyReLU-16                  [-1, 512]               0\n",
            "          Dropout-17                  [-1, 512]               0\n",
            "           Linear-18                   [-1, 10]           5,130\n",
            "================================================================\n",
            "Total params: 206,066\n",
            "Trainable params: 206,066\n",
            "Non-trainable params: 0\n",
            "----------------------------------------------------------------\n",
            "Input size (MB): 0.01\n",
            "Forward/backward pass size (MB): 0.28\n",
            "Params size (MB): 0.79\n",
            "Estimated Total Size (MB): 1.08\n",
            "----------------------------------------------------------------\n"
          ],
          "name": "stdout"
        }
      ]
    },
    {
      "cell_type": "code",
      "metadata": {
        "id": "dPrpQnIePiV1",
        "colab_type": "code",
        "colab": {}
      },
      "source": [
        "criterion = nn.CrossEntropyLoss()\n",
        "optimizer = torch.optim.Adam(model.parameters())"
      ],
      "execution_count": 8,
      "outputs": []
    },
    {
      "cell_type": "code",
      "metadata": {
        "id": "0sOpKoDxPiSi",
        "colab_type": "code",
        "colab": {}
      },
      "source": [
        "batch_size = 128\n",
        "train_loader = torch.utils.data.DataLoader(train_dataset, batch_size=batch_size,shuffle=True)\n",
        "test_loader = torch.utils.data.DataLoader(test_dataset, batch_size=batch_size, shuffle=False)"
      ],
      "execution_count": 9,
      "outputs": []
    },
    {
      "cell_type": "code",
      "metadata": {
        "id": "ohIeA-CwkKYO",
        "colab_type": "code",
        "colab": {}
      },
      "source": [
        "def batch_gd(model, criterion, optimizer, train_loader, test_loader, epochs):\n",
        "  train_losses = np.zeros(epochs)\n",
        "  test_losses = np.zeros(epochs)\n",
        "\n",
        "  for epoch in range(epochs):\n",
        "    model.train()\n",
        "    t0 = datetime.now()\n",
        "    train_loss = []\n",
        "\n",
        "    for inputs, targets in train_loader:\n",
        "      inputs, targets = inputs.to(device), targets.to(device)\n",
        "      optimizer.zero_grad()\n",
        "      outputs = model.forward(inputs)\n",
        "      loss = criterion(outputs, targets)\n",
        "      loss.backward()\n",
        "      optimizer.step()\n",
        "\n",
        "      train_loss.append(loss.item())\n",
        "    \n",
        "    train_loss = np.mean(train_loss)\n",
        "\n",
        "    test_loss =[]\n",
        "\n",
        "    model.eval()\n",
        "    for inputs, targets in test_loader:\n",
        "      inputs, targets = inputs.to(device), targets.to(device)\n",
        "      outputs = model.forward(inputs)\n",
        "      loss = criterion(outputs, targets)\n",
        "      test_loss.append(loss.item())\n",
        "    test_loss = np.mean(test_loss)\n",
        "\n",
        "    dt = datetime.now() - t0\n",
        "\n",
        "    print(f'Epoch {epoch+1} of {epochs}, Train loss {train_loss:.4f}, Test loss {test_loss:.4f}, Duration {dt}')\n",
        "    train_losses[epoch] = train_loss\n",
        "    test_losses[epoch] = test_loss\n",
        "\n",
        "  return train_losses, test_losses"
      ],
      "execution_count": 10,
      "outputs": []
    },
    {
      "cell_type": "code",
      "metadata": {
        "id": "VDznMOPSPiPb",
        "colab_type": "code",
        "colab": {
          "base_uri": "https://localhost:8080/",
          "height": 187
        },
        "outputId": "87fc8074-e6bc-42ff-df62-dd1447a06376"
      },
      "source": [
        "train_losses, test_losses = batch_gd(model, criterion, optimizer, train_loader, test_loader, epochs=10)"
      ],
      "execution_count": 11,
      "outputs": [
        {
          "output_type": "stream",
          "text": [
            "Epoch 1 of 10, Train loss 0.9096, Test loss 0.6395, Duration 0:00:21.640501\n",
            "Epoch 2 of 10, Train loss 0.5462, Test loss 0.4572, Duration 0:00:21.666571\n",
            "Epoch 3 of 10, Train loss 0.4722, Test loss 0.4483, Duration 0:00:21.402692\n",
            "Epoch 4 of 10, Train loss 0.4297, Test loss 0.3809, Duration 0:00:21.522835\n",
            "Epoch 5 of 10, Train loss 0.4020, Test loss 0.3623, Duration 0:00:21.510781\n",
            "Epoch 6 of 10, Train loss 0.3770, Test loss 0.3767, Duration 0:00:21.552744\n",
            "Epoch 7 of 10, Train loss 0.3619, Test loss 0.3427, Duration 0:00:21.565525\n",
            "Epoch 8 of 10, Train loss 0.3445, Test loss 0.3498, Duration 0:00:21.477591\n",
            "Epoch 9 of 10, Train loss 0.3336, Test loss 0.3292, Duration 0:00:21.525104\n",
            "Epoch 10 of 10, Train loss 0.3166, Test loss 0.3177, Duration 0:00:21.469722\n"
          ],
          "name": "stdout"
        }
      ]
    },
    {
      "cell_type": "code",
      "metadata": {
        "id": "7XkqWAeIPiKe",
        "colab_type": "code",
        "colab": {
          "base_uri": "https://localhost:8080/",
          "height": 265
        },
        "outputId": "782732da-4a7f-4754-a80e-3724e2f8d256"
      },
      "source": [
        "plt.plot(train_losses, label='train loss')\n",
        "plt.plot(test_losses, label='test loss')\n",
        "plt.legend()\n",
        "plt.show()"
      ],
      "execution_count": 12,
      "outputs": [
        {
          "output_type": "display_data",
          "data": {
            "image/png": "[encoded data removed]",
            "text/plain": [
              "<Figure size 432x288 with 1 Axes>"
            ]
          },
          "metadata": {
            "tags": [],
            "needs_background": "light"
          }
        }
      ]
    },
    {
      "cell_type": "code",
      "metadata": {
        "id": "2HN8t8MNPiAI",
        "colab_type": "code",
        "colab": {
          "base_uri": "https://localhost:8080/",
          "height": 34
        },
        "outputId": "71a2bda2-9163-49a2-ab9f-4d47afbc6c17"
      },
      "source": [
        "n_correct = 0.\n",
        "n_total = 0.\n",
        "\n",
        "model.eval()\n",
        "for inputs, targets in train_loader:\n",
        "  inputs, targets = inputs.to(device), targets.to(device)\n",
        "\n",
        "  outputs = model(inputs)\n",
        "  _, predictions = torch.max(outputs, 1)\n",
        "\n",
        "  n_correct += (predictions==targets).sum()\n",
        "  n_total += targets.shape[0]\n",
        "\n",
        "train_acc = n_correct/n_total\n",
        "\n",
        "n_correct = 0.\n",
        "n_total = 0.\n",
        "\n",
        "for inputs, targets in test_loader:\n",
        "  inputs, targets = inputs.to(device), targets.to(device)\n",
        "\n",
        "  outputs = model(inputs)\n",
        "  _, predictions = torch.max(outputs, 1)\n",
        "\n",
        "  n_correct += (predictions==targets).sum()\n",
        "  n_total += targets.shape[0]\n",
        "\n",
        "test_acc = n_correct/n_total\n",
        "\n",
        "\n",
        "print(f'Train accuracy: {train_acc:.4f}, Test accuracy: {test_acc:.4f}')"
      ],
      "execution_count": 13,
      "outputs": [
        {
          "output_type": "stream",
          "text": [
            "Train accuracy: 0.9319, Test accuracy: 0.9103\n"
          ],
          "name": "stdout"
        }
      ]
    },
    {
      "cell_type": "code",
      "metadata": {
        "id": "mCt2_a8oPhv0",
        "colab_type": "code",
        "colab": {}
      },
      "source": [
        ""
      ],
      "execution_count": 13,
      "outputs": []
    }
  ]
}